{
 "cells": [
  {
   "cell_type": "markdown",
   "metadata": {},
   "source": [
    "### Loading the libraries\n",
    "- 20 Oct 2023"
   ]
  },
  {
   "cell_type": "code",
   "execution_count": null,
   "metadata": {},
   "outputs": [
    {
     "ename": "",
     "evalue": "",
     "output_type": "error",
     "traceback": [
      "\u001b[1;31mRunning cells with 'd:\\2 Code\\9 Sep 2023\\Krish EDA\\Krish End to end housing\\califhousepricing\\venv\\python.exe' requires the ipykernel package.\n",
      "\u001b[1;31mRun the following command to install 'ipykernel' into the Python environment. \n",
      "\u001b[1;31mCommand: 'conda install -p d:\\2 Code\\9 Sep 2023\\Krish EDA\\Krish End to end housing\\califhousepricing\\venv ipykernel --update-deps --force-reinstall'"
     ]
    }
   ],
   "source": [
    "import pandas as pd\n",
    "import numpy as np\n",
    "import seaborn as sns\n",
    "import matplotlib.pyplot as plt\n",
    "%matplotlib inline"
   ]
  },
  {
   "cell_type": "markdown",
   "metadata": {},
   "source": [
    "### Loading the Datset and pre EDA"
   ]
  },
  {
   "cell_type": "code",
   "execution_count": null,
   "metadata": {},
   "outputs": [
    {
     "ename": "",
     "evalue": "",
     "output_type": "error",
     "traceback": [
      "\u001b[1;31mRunning cells with 'd:\\2 Code\\9 Sep 2023\\Krish EDA\\Krish End to end housing\\califhousepricing\\venv\\python.exe' requires the ipykernel package.\n",
      "\u001b[1;31mRun the following command to install 'ipykernel' into the Python environment. \n",
      "\u001b[1;31mCommand: 'conda install -p d:\\2 Code\\9 Sep 2023\\Krish EDA\\Krish End to end housing\\califhousepricing\\venv ipykernel --update-deps --force-reinstall'"
     ]
    }
   ],
   "source": [
    "# load the dataset\n",
    "import sklearn.datasets\n"
   ]
  },
  {
   "cell_type": "code",
   "execution_count": null,
   "metadata": {},
   "outputs": [
    {
     "ename": "",
     "evalue": "",
     "output_type": "error",
     "traceback": [
      "\u001b[1;31mRunning cells with 'd:\\2 Code\\9 Sep 2023\\Krish EDA\\Krish End to end housing\\califhousepricing\\venv\\python.exe' requires the ipykernel package.\n",
      "\u001b[1;31mRun the following command to install 'ipykernel' into the Python environment. \n",
      "\u001b[1;31mCommand: 'conda install -p d:\\2 Code\\9 Sep 2023\\Krish EDA\\Krish End to end housing\\califhousepricing\\venv ipykernel --update-deps --force-reinstall'"
     ]
    }
   ],
   "source": [
    "calif = sklearn.datasets.fetch_california_housing()"
   ]
  },
  {
   "cell_type": "code",
   "execution_count": null,
   "metadata": {},
   "outputs": [
    {
     "ename": "",
     "evalue": "",
     "output_type": "error",
     "traceback": [
      "\u001b[1;31mRunning cells with 'd:\\2 Code\\9 Sep 2023\\Krish EDA\\Krish End to end housing\\califhousepricing\\venv\\python.exe' requires the ipykernel package.\n",
      "\u001b[1;31mRun the following command to install 'ipykernel' into the Python environment. \n",
      "\u001b[1;31mCommand: 'conda install -p d:\\2 Code\\9 Sep 2023\\Krish EDA\\Krish End to end housing\\califhousepricing\\venv ipykernel --update-deps --force-reinstall'"
     ]
    }
   ],
   "source": [
    "type(calif)\n",
    "calif.keys()"
   ]
  },
  {
   "cell_type": "code",
   "execution_count": null,
   "metadata": {},
   "outputs": [
    {
     "ename": "",
     "evalue": "",
     "output_type": "error",
     "traceback": [
      "\u001b[1;31mRunning cells with 'd:\\2 Code\\9 Sep 2023\\Krish EDA\\Krish End to end housing\\califhousepricing\\venv\\python.exe' requires the ipykernel package.\n",
      "\u001b[1;31mRun the following command to install 'ipykernel' into the Python environment. \n",
      "\u001b[1;31mCommand: 'conda install -p d:\\2 Code\\9 Sep 2023\\Krish EDA\\Krish End to end housing\\califhousepricing\\venv ipykernel --update-deps --force-reinstall'"
     ]
    }
   ],
   "source": [
    "print(calif.DESCR)"
   ]
  },
  {
   "cell_type": "code",
   "execution_count": null,
   "metadata": {},
   "outputs": [
    {
     "ename": "",
     "evalue": "",
     "output_type": "error",
     "traceback": [
      "\u001b[1;31mRunning cells with 'd:\\2 Code\\9 Sep 2023\\Krish EDA\\Krish End to end housing\\califhousepricing\\venv\\python.exe' requires the ipykernel package.\n",
      "\u001b[1;31mRun the following command to install 'ipykernel' into the Python environment. \n",
      "\u001b[1;31mCommand: 'conda install -p d:\\2 Code\\9 Sep 2023\\Krish EDA\\Krish End to end housing\\califhousepricing\\venv ipykernel --update-deps --force-reinstall'"
     ]
    }
   ],
   "source": [
    "print(calif.data)"
   ]
  },
  {
   "cell_type": "code",
   "execution_count": null,
   "metadata": {},
   "outputs": [
    {
     "ename": "",
     "evalue": "",
     "output_type": "error",
     "traceback": [
      "\u001b[1;31mRunning cells with 'd:\\2 Code\\9 Sep 2023\\Krish EDA\\Krish End to end housing\\califhousepricing\\venv\\python.exe' requires the ipykernel package.\n",
      "\u001b[1;31mRun the following command to install 'ipykernel' into the Python environment. \n",
      "\u001b[1;31mCommand: 'conda install -p d:\\2 Code\\9 Sep 2023\\Krish EDA\\Krish End to end housing\\califhousepricing\\venv ipykernel --update-deps --force-reinstall'"
     ]
    }
   ],
   "source": [
    "print (calif.target)"
   ]
  },
  {
   "cell_type": "markdown",
   "metadata": {},
   "source": [
    "## PP, EDA, FE"
   ]
  },
  {
   "cell_type": "markdown",
   "metadata": {},
   "source": [
    "### Preparing the Dataset (Pre processing)"
   ]
  },
  {
   "cell_type": "code",
   "execution_count": null,
   "metadata": {},
   "outputs": [
    {
     "ename": "",
     "evalue": "",
     "output_type": "error",
     "traceback": [
      "\u001b[1;31mRunning cells with 'd:\\2 Code\\9 Sep 2023\\Krish EDA\\Krish End to end housing\\califhousepricing\\venv\\python.exe' requires the ipykernel package.\n",
      "\u001b[1;31mRun the following command to install 'ipykernel' into the Python environment. \n",
      "\u001b[1;31mCommand: 'conda install -p d:\\2 Code\\9 Sep 2023\\Krish EDA\\Krish End to end housing\\califhousepricing\\venv ipykernel --update-deps --force-reinstall'"
     ]
    }
   ],
   "source": [
    "# Loading the dataset into a pandas dataframe\n",
    "dataset = pd.DataFrame(calif.data)\n",
    "dataset.head()"
   ]
  },
  {
   "cell_type": "code",
   "execution_count": null,
   "metadata": {},
   "outputs": [
    {
     "ename": "",
     "evalue": "",
     "output_type": "error",
     "traceback": [
      "\u001b[1;31mRunning cells with 'd:\\2 Code\\9 Sep 2023\\Krish EDA\\Krish End to end housing\\califhousepricing\\venv\\python.exe' requires the ipykernel package.\n",
      "\u001b[1;31mRun the following command to install 'ipykernel' into the Python environment. \n",
      "\u001b[1;31mCommand: 'conda install -p d:\\2 Code\\9 Sep 2023\\Krish EDA\\Krish End to end housing\\califhousepricing\\venv ipykernel --update-deps --force-reinstall'"
     ]
    }
   ],
   "source": [
    "# including the name of the columns\n",
    "dataset = pd.DataFrame(calif.data, columns = calif.feature_names)"
   ]
  },
  {
   "cell_type": "code",
   "execution_count": null,
   "metadata": {},
   "outputs": [
    {
     "ename": "",
     "evalue": "",
     "output_type": "error",
     "traceback": [
      "\u001b[1;31mRunning cells with 'd:\\2 Code\\9 Sep 2023\\Krish EDA\\Krish End to end housing\\califhousepricing\\venv\\python.exe' requires the ipykernel package.\n",
      "\u001b[1;31mRun the following command to install 'ipykernel' into the Python environment. \n",
      "\u001b[1;31mCommand: 'conda install -p d:\\2 Code\\9 Sep 2023\\Krish EDA\\Krish End to end housing\\califhousepricing\\venv ipykernel --update-deps --force-reinstall'"
     ]
    }
   ],
   "source": [
    "dataset.head()\n"
   ]
  },
  {
   "cell_type": "code",
   "execution_count": null,
   "metadata": {},
   "outputs": [
    {
     "ename": "",
     "evalue": "",
     "output_type": "error",
     "traceback": [
      "\u001b[1;31mRunning cells with 'd:\\2 Code\\9 Sep 2023\\Krish EDA\\Krish End to end housing\\califhousepricing\\venv\\python.exe' requires the ipykernel package.\n",
      "\u001b[1;31mRun the following command to install 'ipykernel' into the Python environment. \n",
      "\u001b[1;31mCommand: 'conda install -p d:\\2 Code\\9 Sep 2023\\Krish EDA\\Krish End to end housing\\califhousepricing\\venv ipykernel --update-deps --force-reinstall'"
     ]
    }
   ],
   "source": [
    "# Adding the target/dependent variable to the dataset\n",
    "dataset['Price']=calif.target"
   ]
  },
  {
   "cell_type": "code",
   "execution_count": null,
   "metadata": {},
   "outputs": [
    {
     "ename": "",
     "evalue": "",
     "output_type": "error",
     "traceback": [
      "\u001b[1;31mRunning cells with 'd:\\2 Code\\9 Sep 2023\\Krish EDA\\Krish End to end housing\\califhousepricing\\venv\\python.exe' requires the ipykernel package.\n",
      "\u001b[1;31mRun the following command to install 'ipykernel' into the Python environment. \n",
      "\u001b[1;31mCommand: 'conda install -p d:\\2 Code\\9 Sep 2023\\Krish EDA\\Krish End to end housing\\califhousepricing\\venv ipykernel --update-deps --force-reinstall'"
     ]
    }
   ],
   "source": [
    "dataset.head()\n"
   ]
  },
  {
   "cell_type": "code",
   "execution_count": null,
   "metadata": {},
   "outputs": [
    {
     "ename": "",
     "evalue": "",
     "output_type": "error",
     "traceback": [
      "\u001b[1;31mRunning cells with 'd:\\2 Code\\9 Sep 2023\\Krish EDA\\Krish End to end housing\\califhousepricing\\venv\\python.exe' requires the ipykernel package.\n",
      "\u001b[1;31mRun the following command to install 'ipykernel' into the Python environment. \n",
      "\u001b[1;31mCommand: 'conda install -p d:\\2 Code\\9 Sep 2023\\Krish EDA\\Krish End to end housing\\califhousepricing\\venv ipykernel --update-deps --force-reinstall'"
     ]
    }
   ],
   "source": [
    "# checking for data types of the columns\n",
    "dataset.info()"
   ]
  },
  {
   "cell_type": "code",
   "execution_count": null,
   "metadata": {},
   "outputs": [
    {
     "ename": "",
     "evalue": "",
     "output_type": "error",
     "traceback": [
      "\u001b[1;31mRunning cells with 'd:\\2 Code\\9 Sep 2023\\Krish EDA\\Krish End to end housing\\califhousepricing\\venv\\python.exe' requires the ipykernel package.\n",
      "\u001b[1;31mRun the following command to install 'ipykernel' into the Python environment. \n",
      "\u001b[1;31mCommand: 'conda install -p d:\\2 Code\\9 Sep 2023\\Krish EDA\\Krish End to end housing\\califhousepricing\\venv ipykernel --update-deps --force-reinstall'"
     ]
    }
   ],
   "source": [
    "#checking for null values\n",
    "dataset.isnull().sum()"
   ]
  },
  {
   "cell_type": "code",
   "execution_count": null,
   "metadata": {},
   "outputs": [
    {
     "ename": "",
     "evalue": "",
     "output_type": "error",
     "traceback": [
      "\u001b[1;31mRunning cells with 'd:\\2 Code\\9 Sep 2023\\Krish EDA\\Krish End to end housing\\califhousepricing\\venv\\python.exe' requires the ipykernel package.\n",
      "\u001b[1;31mRun the following command to install 'ipykernel' into the Python environment. \n",
      "\u001b[1;31mCommand: 'conda install -p d:\\2 Code\\9 Sep 2023\\Krish EDA\\Krish End to end housing\\califhousepricing\\venv ipykernel --update-deps --force-reinstall'"
     ]
    }
   ],
   "source": [
    "dataset.describe()"
   ]
  },
  {
   "cell_type": "code",
   "execution_count": null,
   "metadata": {},
   "outputs": [
    {
     "ename": "",
     "evalue": "",
     "output_type": "error",
     "traceback": [
      "\u001b[1;31mRunning cells with 'd:\\2 Code\\9 Sep 2023\\Krish EDA\\Krish End to end housing\\califhousepricing\\venv\\python.exe' requires the ipykernel package.\n",
      "\u001b[1;31mRun the following command to install 'ipykernel' into the Python environment. \n",
      "\u001b[1;31mCommand: 'conda install -p d:\\2 Code\\9 Sep 2023\\Krish EDA\\Krish End to end housing\\califhousepricing\\venv ipykernel --update-deps --force-reinstall'"
     ]
    }
   ],
   "source": [
    "cor = dataset.corr()"
   ]
  },
  {
   "cell_type": "code",
   "execution_count": null,
   "metadata": {},
   "outputs": [
    {
     "ename": "",
     "evalue": "",
     "output_type": "error",
     "traceback": [
      "\u001b[1;31mRunning cells with 'd:\\2 Code\\9 Sep 2023\\Krish EDA\\Krish End to end housing\\califhousepricing\\venv\\python.exe' requires the ipykernel package.\n",
      "\u001b[1;31mRun the following command to install 'ipykernel' into the Python environment. \n",
      "\u001b[1;31mCommand: 'conda install -p d:\\2 Code\\9 Sep 2023\\Krish EDA\\Krish End to end housing\\califhousepricing\\venv ipykernel --update-deps --force-reinstall'"
     ]
    }
   ],
   "source": [
    "print (cor)"
   ]
  },
  {
   "cell_type": "code",
   "execution_count": null,
   "metadata": {},
   "outputs": [
    {
     "ename": "",
     "evalue": "",
     "output_type": "error",
     "traceback": [
      "\u001b[1;31mRunning cells with 'd:\\2 Code\\9 Sep 2023\\Krish EDA\\Krish End to end housing\\califhousepricing\\venv\\python.exe' requires the ipykernel package.\n",
      "\u001b[1;31mRun the following command to install 'ipykernel' into the Python environment. \n",
      "\u001b[1;31mCommand: 'conda install -p d:\\2 Code\\9 Sep 2023\\Krish EDA\\Krish End to end housing\\califhousepricing\\venv ipykernel --update-deps --force-reinstall'"
     ]
    }
   ],
   "source": [
    "# Visualizing the correlation matrix\n",
    "sns.heatmap(cor, annot = True)"
   ]
  },
  {
   "cell_type": "markdown",
   "metadata": {},
   "source": [
    "- if 2 independent features are highly correlated, then it is a case of multicollinerity and we can drop one of the features\n",
    "SUMMARY\n",
    "- Check for collinearity\n",
    "- "
   ]
  },
  {
   "cell_type": "markdown",
   "metadata": {},
   "source": [
    "- EDA\n"
   ]
  },
  {
   "cell_type": "code",
   "execution_count": null,
   "metadata": {},
   "outputs": [
    {
     "ename": "",
     "evalue": "",
     "output_type": "error",
     "traceback": [
      "\u001b[1;31mRunning cells with 'd:\\2 Code\\9 Sep 2023\\Krish EDA\\Krish End to end housing\\califhousepricing\\venv\\python.exe' requires the ipykernel package.\n",
      "\u001b[1;31mRun the following command to install 'ipykernel' into the Python environment. \n",
      "\u001b[1;31mCommand: 'conda install -p d:\\2 Code\\9 Sep 2023\\Krish EDA\\Krish End to end housing\\califhousepricing\\venv ipykernel --update-deps --force-reinstall'"
     ]
    }
   ],
   "source": [
    "plt.scatter(dataset['MedInc'],dataset['Price'])\n",
    "plt.xlabel(\"A\")\n",
    "plt.ylabel(\"B\")\n"
   ]
  },
  {
   "cell_type": "code",
   "execution_count": null,
   "metadata": {},
   "outputs": [
    {
     "ename": "",
     "evalue": "",
     "output_type": "error",
     "traceback": [
      "\u001b[1;31mRunning cells with 'd:\\2 Code\\9 Sep 2023\\Krish EDA\\Krish End to end housing\\califhousepricing\\venv\\python.exe' requires the ipykernel package.\n",
      "\u001b[1;31mRun the following command to install 'ipykernel' into the Python environment. \n",
      "\u001b[1;31mCommand: 'conda install -p d:\\2 Code\\9 Sep 2023\\Krish EDA\\Krish End to end housing\\califhousepricing\\venv ipykernel --update-deps --force-reinstall'"
     ]
    }
   ],
   "source": [
    "sns.regplot(x=\"MedInc\", y = \"Price\", data = dataset)"
   ]
  },
  {
   "cell_type": "markdown",
   "metadata": {},
   "source": [
    "### Training the dataset"
   ]
  },
  {
   "cell_type": "code",
   "execution_count": null,
   "metadata": {},
   "outputs": [
    {
     "ename": "",
     "evalue": "",
     "output_type": "error",
     "traceback": [
      "\u001b[1;31mRunning cells with 'd:\\2 Code\\9 Sep 2023\\Krish EDA\\Krish End to end housing\\califhousepricing\\venv\\python.exe' requires the ipykernel package.\n",
      "\u001b[1;31mRun the following command to install 'ipykernel' into the Python environment. \n",
      "\u001b[1;31mCommand: 'conda install -p d:\\2 Code\\9 Sep 2023\\Krish EDA\\Krish End to end housing\\califhousepricing\\venv ipykernel --update-deps --force-reinstall'"
     ]
    }
   ],
   "source": [
    "#1 Create the X and Y sets\n",
    "X = dataset.iloc[:,:-1]\n",
    "Y = dataset.iloc[:,-1]"
   ]
  },
  {
   "cell_type": "code",
   "execution_count": null,
   "metadata": {},
   "outputs": [
    {
     "ename": "",
     "evalue": "",
     "output_type": "error",
     "traceback": [
      "\u001b[1;31mRunning cells with 'd:\\2 Code\\9 Sep 2023\\Krish EDA\\Krish End to end housing\\califhousepricing\\venv\\python.exe' requires the ipykernel package.\n",
      "\u001b[1;31mRun the following command to install 'ipykernel' into the Python environment. \n",
      "\u001b[1;31mCommand: 'conda install -p d:\\2 Code\\9 Sep 2023\\Krish EDA\\Krish End to end housing\\califhousepricing\\venv ipykernel --update-deps --force-reinstall'"
     ]
    }
   ],
   "source": []
  },
  {
   "cell_type": "code",
   "execution_count": null,
   "metadata": {},
   "outputs": [
    {
     "ename": "",
     "evalue": "",
     "output_type": "error",
     "traceback": [
      "\u001b[1;31mRunning cells with 'd:\\2 Code\\9 Sep 2023\\Krish EDA\\Krish End to end housing\\califhousepricing\\venv\\python.exe' requires the ipykernel package.\n",
      "\u001b[1;31mRun the following command to install 'ipykernel' into the Python environment. \n",
      "\u001b[1;31mCommand: 'conda install -p d:\\2 Code\\9 Sep 2023\\Krish EDA\\Krish End to end housing\\califhousepricing\\venv ipykernel --update-deps --force-reinstall'"
     ]
    }
   ],
   "source": [
    "# 2 Split the data into training and test sets\n",
    "from sklearn.model_selection import train_test_split\n",
    "x_train,x_test,y_train,y_test = train_test_split(X,Y, test_size= 0.3, random_state= 42)"
   ]
  },
  {
   "cell_type": "code",
   "execution_count": null,
   "metadata": {},
   "outputs": [
    {
     "ename": "",
     "evalue": "",
     "output_type": "error",
     "traceback": [
      "\u001b[1;31mRunning cells with 'd:\\2 Code\\9 Sep 2023\\Krish EDA\\Krish End to end housing\\califhousepricing\\venv\\python.exe' requires the ipykernel package.\n",
      "\u001b[1;31mRun the following command to install 'ipykernel' into the Python environment. \n",
      "\u001b[1;31mCommand: 'conda install -p d:\\2 Code\\9 Sep 2023\\Krish EDA\\Krish End to end housing\\califhousepricing\\venv ipykernel --update-deps --force-reinstall'"
     ]
    }
   ],
   "source": [
    "#3 Actual training of the model"
   ]
  },
  {
   "cell_type": "markdown",
   "metadata": {},
   "source": [
    "#### Interview Question \n",
    "- WHY DO YOU STANDARDIZE A DATASET IN LINEAR REGRESSION\n",
    "- Standardized scaler (33rd Minute)\n",
    "- We have to normalize, standardize all the data points to the same scale\n",
    "- Why? Because then the gradient descent algorithm works faster and more efficiently\n",
    "............\n",
    "- Iternally we use Gradient descent, our main  goal is to come to the global minima\n",
    "- And to come to the global minima we have to make sure that all the independent feature units should be in the same scale, so tha the convergence to the global minima will happen quickly"
   ]
  },
  {
   "cell_type": "code",
   "execution_count": null,
   "metadata": {},
   "outputs": [
    {
     "ename": "",
     "evalue": "",
     "output_type": "error",
     "traceback": [
      "\u001b[1;31mRunning cells with 'd:\\2 Code\\9 Sep 2023\\Krish EDA\\Krish End to end housing\\califhousepricing\\venv\\python.exe' requires the ipykernel package.\n",
      "\u001b[1;31mRun the following command to install 'ipykernel' into the Python environment. \n",
      "\u001b[1;31mCommand: 'conda install -p d:\\2 Code\\9 Sep 2023\\Krish EDA\\Krish End to end housing\\califhousepricing\\venv ipykernel --update-deps --force-reinstall'"
     ]
    }
   ],
   "source": [
    "# Scaling and standardizing the dataset\n",
    "from sklearn.preprocessing import StandardScaler\n",
    "scaler = StandardScaler()"
   ]
  },
  {
   "cell_type": "code",
   "execution_count": null,
   "metadata": {},
   "outputs": [
    {
     "ename": "",
     "evalue": "",
     "output_type": "error",
     "traceback": [
      "\u001b[1;31mRunning cells with 'd:\\2 Code\\9 Sep 2023\\Krish EDA\\Krish End to end housing\\califhousepricing\\venv\\python.exe' requires the ipykernel package.\n",
      "\u001b[1;31mRun the following command to install 'ipykernel' into the Python environment. \n",
      "\u001b[1;31mCommand: 'conda install -p d:\\2 Code\\9 Sep 2023\\Krish EDA\\Krish End to end housing\\califhousepricing\\venv ipykernel --update-deps --force-reinstall'"
     ]
    }
   ],
   "source": [
    "x_train = scaler.fit_transform(x_train)"
   ]
  },
  {
   "cell_type": "code",
   "execution_count": null,
   "metadata": {},
   "outputs": [
    {
     "ename": "",
     "evalue": "",
     "output_type": "error",
     "traceback": [
      "\u001b[1;31mRunning cells with 'd:\\2 Code\\9 Sep 2023\\Krish EDA\\Krish End to end housing\\califhousepricing\\venv\\python.exe' requires the ipykernel package.\n",
      "\u001b[1;31mRun the following command to install 'ipykernel' into the Python environment. \n",
      "\u001b[1;31mCommand: 'conda install -p d:\\2 Code\\9 Sep 2023\\Krish EDA\\Krish End to end housing\\califhousepricing\\venv ipykernel --update-deps --force-reinstall'"
     ]
    }
   ],
   "source": [
    "x_test= scaler.transform(x_test)"
   ]
  },
  {
   "cell_type": "code",
   "execution_count": null,
   "metadata": {},
   "outputs": [
    {
     "ename": "",
     "evalue": "",
     "output_type": "error",
     "traceback": [
      "\u001b[1;31mRunning cells with 'd:\\2 Code\\9 Sep 2023\\Krish EDA\\Krish End to end housing\\califhousepricing\\venv\\python.exe' requires the ipykernel package.\n",
      "\u001b[1;31mRun the following command to install 'ipykernel' into the Python environment. \n",
      "\u001b[1;31mCommand: 'conda install -p d:\\2 Code\\9 Sep 2023\\Krish EDA\\Krish End to end housing\\califhousepricing\\venv ipykernel --update-deps --force-reinstall'"
     ]
    }
   ],
   "source": [
    "import pickle\n",
    "pickle.dump(scaler,open('scaling.pkl','wb'))"
   ]
  },
  {
   "cell_type": "code",
   "execution_count": null,
   "metadata": {},
   "outputs": [
    {
     "ename": "",
     "evalue": "",
     "output_type": "error",
     "traceback": [
      "\u001b[1;31mRunning cells with 'd:\\2 Code\\9 Sep 2023\\Krish EDA\\Krish End to end housing\\califhousepricing\\venv\\python.exe' requires the ipykernel package.\n",
      "\u001b[1;31mRun the following command to install 'ipykernel' into the Python environment. \n",
      "\u001b[1;31mCommand: 'conda install -p d:\\2 Code\\9 Sep 2023\\Krish EDA\\Krish End to end housing\\califhousepricing\\venv ipykernel --update-deps --force-reinstall'"
     ]
    }
   ],
   "source": [
    "# Training the model"
   ]
  },
  {
   "cell_type": "code",
   "execution_count": null,
   "metadata": {},
   "outputs": [
    {
     "ename": "",
     "evalue": "",
     "output_type": "error",
     "traceback": [
      "\u001b[1;31mRunning cells with 'd:\\2 Code\\9 Sep 2023\\Krish EDA\\Krish End to end housing\\califhousepricing\\venv\\python.exe' requires the ipykernel package.\n",
      "\u001b[1;31mRun the following command to install 'ipykernel' into the Python environment. \n",
      "\u001b[1;31mCommand: 'conda install -p d:\\2 Code\\9 Sep 2023\\Krish EDA\\Krish End to end housing\\califhousepricing\\venv ipykernel --update-deps --force-reinstall'"
     ]
    }
   ],
   "source": [
    "from sklearn.linear_model import LinearRegression\n"
   ]
  },
  {
   "cell_type": "code",
   "execution_count": null,
   "metadata": {},
   "outputs": [
    {
     "ename": "",
     "evalue": "",
     "output_type": "error",
     "traceback": [
      "\u001b[1;31mRunning cells with 'd:\\2 Code\\9 Sep 2023\\Krish EDA\\Krish End to end housing\\califhousepricing\\venv\\python.exe' requires the ipykernel package.\n",
      "\u001b[1;31mRun the following command to install 'ipykernel' into the Python environment. \n",
      "\u001b[1;31mCommand: 'conda install -p d:\\2 Code\\9 Sep 2023\\Krish EDA\\Krish End to end housing\\califhousepricing\\venv ipykernel --update-deps --force-reinstall'"
     ]
    }
   ],
   "source": [
    "regression = LinearRegression()"
   ]
  },
  {
   "cell_type": "code",
   "execution_count": null,
   "metadata": {},
   "outputs": [
    {
     "ename": "",
     "evalue": "",
     "output_type": "error",
     "traceback": [
      "\u001b[1;31mRunning cells with 'd:\\2 Code\\9 Sep 2023\\Krish EDA\\Krish End to end housing\\califhousepricing\\venv\\python.exe' requires the ipykernel package.\n",
      "\u001b[1;31mRun the following command to install 'ipykernel' into the Python environment. \n",
      "\u001b[1;31mCommand: 'conda install -p d:\\2 Code\\9 Sep 2023\\Krish EDA\\Krish End to end housing\\califhousepricing\\venv ipykernel --update-deps --force-reinstall'"
     ]
    }
   ],
   "source": [
    "regression.fit(x_train, y_train)"
   ]
  },
  {
   "cell_type": "markdown",
   "metadata": {},
   "source": [
    "### Pediction and evaluation"
   ]
  },
  {
   "cell_type": "code",
   "execution_count": null,
   "metadata": {},
   "outputs": [
    {
     "ename": "",
     "evalue": "",
     "output_type": "error",
     "traceback": [
      "\u001b[1;31mRunning cells with 'd:\\2 Code\\9 Sep 2023\\Krish EDA\\Krish End to end housing\\califhousepricing\\venv\\python.exe' requires the ipykernel package.\n",
      "\u001b[1;31mRun the following command to install 'ipykernel' into the Python environment. \n",
      "\u001b[1;31mCommand: 'conda install -p d:\\2 Code\\9 Sep 2023\\Krish EDA\\Krish End to end housing\\califhousepricing\\venv ipykernel --update-deps --force-reinstall'"
     ]
    }
   ],
   "source": [
    "reg_pred =regression.predict(x_test)"
   ]
  },
  {
   "cell_type": "code",
   "execution_count": null,
   "metadata": {},
   "outputs": [
    {
     "ename": "",
     "evalue": "",
     "output_type": "error",
     "traceback": [
      "\u001b[1;31mRunning cells with 'd:\\2 Code\\9 Sep 2023\\Krish EDA\\Krish End to end housing\\califhousepricing\\venv\\python.exe' requires the ipykernel package.\n",
      "\u001b[1;31mRun the following command to install 'ipykernel' into the Python environment. \n",
      "\u001b[1;31mCommand: 'conda install -p d:\\2 Code\\9 Sep 2023\\Krish EDA\\Krish End to end housing\\califhousepricing\\venv ipykernel --update-deps --force-reinstall'"
     ]
    }
   ],
   "source": [
    "from sklearn.metrics import r2_score, mean_squared_error\n",
    "import numpy as np"
   ]
  },
  {
   "cell_type": "code",
   "execution_count": null,
   "metadata": {},
   "outputs": [
    {
     "ename": "",
     "evalue": "",
     "output_type": "error",
     "traceback": [
      "\u001b[1;31mRunning cells with 'd:\\2 Code\\9 Sep 2023\\Krish EDA\\Krish End to end housing\\califhousepricing\\venv\\python.exe' requires the ipykernel package.\n",
      "\u001b[1;31mRun the following command to install 'ipykernel' into the Python environment. \n",
      "\u001b[1;31mCommand: 'conda install -p d:\\2 Code\\9 Sep 2023\\Krish EDA\\Krish End to end housing\\califhousepricing\\venv ipykernel --update-deps --force-reinstall'"
     ]
    }
   ],
   "source": [
    "r2 = r2_score( y_test, reg_pred)\n",
    "rmse = np.sqrt(mean_squared_error(y_test, reg_pred))\n",
    "print(r2)\n",
    "print(rmse)"
   ]
  },
  {
   "cell_type": "code",
   "execution_count": null,
   "metadata": {},
   "outputs": [
    {
     "ename": "",
     "evalue": "",
     "output_type": "error",
     "traceback": [
      "\u001b[1;31mRunning cells with 'd:\\2 Code\\9 Sep 2023\\Krish EDA\\Krish End to end housing\\califhousepricing\\venv\\python.exe' requires the ipykernel package.\n",
      "\u001b[1;31mRun the following command to install 'ipykernel' into the Python environment. \n",
      "\u001b[1;31mCommand: 'conda install -p d:\\2 Code\\9 Sep 2023\\Krish EDA\\Krish End to end housing\\califhousepricing\\venv ipykernel --update-deps --force-reinstall'"
     ]
    }
   ],
   "source": [
    "plt.scatter(y_test, reg_pred)"
   ]
  },
  {
   "cell_type": "code",
   "execution_count": null,
   "metadata": {},
   "outputs": [
    {
     "ename": "",
     "evalue": "",
     "output_type": "error",
     "traceback": [
      "\u001b[1;31mRunning cells with 'd:\\2 Code\\9 Sep 2023\\Krish EDA\\Krish End to end housing\\califhousepricing\\venv\\python.exe' requires the ipykernel package.\n",
      "\u001b[1;31mRun the following command to install 'ipykernel' into the Python environment. \n",
      "\u001b[1;31mCommand: 'conda install -p d:\\2 Code\\9 Sep 2023\\Krish EDA\\Krish End to end housing\\califhousepricing\\venv ipykernel --update-deps --force-reinstall'"
     ]
    }
   ],
   "source": [
    "# Calculating the residuals / errors\n",
    "residuals = y_test - reg_pred"
   ]
  },
  {
   "cell_type": "code",
   "execution_count": null,
   "metadata": {},
   "outputs": [
    {
     "ename": "",
     "evalue": "",
     "output_type": "error",
     "traceback": [
      "\u001b[1;31mRunning cells with 'd:\\2 Code\\9 Sep 2023\\Krish EDA\\Krish End to end housing\\califhousepricing\\venv\\python.exe' requires the ipykernel package.\n",
      "\u001b[1;31mRun the following command to install 'ipykernel' into the Python environment. \n",
      "\u001b[1;31mCommand: 'conda install -p d:\\2 Code\\9 Sep 2023\\Krish EDA\\Krish End to end housing\\califhousepricing\\venv ipykernel --update-deps --force-reinstall'"
     ]
    }
   ],
   "source": [
    "# Plotting he residuals\n",
    "sns.displot(residuals, kind = \"kde\")"
   ]
  },
  {
   "cell_type": "markdown",
   "metadata": {},
   "source": [
    "### Next : Prediction of New Data 55th minute"
   ]
  },
  {
   "cell_type": "code",
   "execution_count": null,
   "metadata": {},
   "outputs": [
    {
     "ename": "",
     "evalue": "",
     "output_type": "error",
     "traceback": [
      "\u001b[1;31mRunning cells with 'd:\\2 Code\\9 Sep 2023\\Krish EDA\\Krish End to end housing\\califhousepricing\\venv\\python.exe' requires the ipykernel package.\n",
      "\u001b[1;31mRun the following command to install 'ipykernel' into the Python environment. \n",
      "\u001b[1;31mCommand: 'conda install -p d:\\2 Code\\9 Sep 2023\\Krish EDA\\Krish End to end housing\\califhousepricing\\venv ipykernel --update-deps --force-reinstall'"
     ]
    }
   ],
   "source": [
    "calif.data[0].shape"
   ]
  },
  {
   "cell_type": "code",
   "execution_count": null,
   "metadata": {},
   "outputs": [
    {
     "ename": "",
     "evalue": "",
     "output_type": "error",
     "traceback": [
      "\u001b[1;31mRunning cells with 'd:\\2 Code\\9 Sep 2023\\Krish EDA\\Krish End to end housing\\califhousepricing\\venv\\python.exe' requires the ipykernel package.\n",
      "\u001b[1;31mRun the following command to install 'ipykernel' into the Python environment. \n",
      "\u001b[1;31mCommand: 'conda install -p d:\\2 Code\\9 Sep 2023\\Krish EDA\\Krish End to end housing\\califhousepricing\\venv ipykernel --update-deps --force-reinstall'"
     ]
    }
   ],
   "source": [
    "calif.data[0]"
   ]
  },
  {
   "cell_type": "code",
   "execution_count": null,
   "metadata": {},
   "outputs": [
    {
     "ename": "",
     "evalue": "",
     "output_type": "error",
     "traceback": [
      "\u001b[1;31mRunning cells with 'd:\\2 Code\\9 Sep 2023\\Krish EDA\\Krish End to end housing\\califhousepricing\\venv\\python.exe' requires the ipykernel package.\n",
      "\u001b[1;31mRun the following command to install 'ipykernel' into the Python environment. \n",
      "\u001b[1;31mCommand: 'conda install -p d:\\2 Code\\9 Sep 2023\\Krish EDA\\Krish End to end housing\\califhousepricing\\venv ipykernel --update-deps --force-reinstall'"
     ]
    }
   ],
   "source": [
    "calif.data[0].reshape(1,-1)"
   ]
  },
  {
   "cell_type": "code",
   "execution_count": null,
   "metadata": {},
   "outputs": [
    {
     "ename": "",
     "evalue": "",
     "output_type": "error",
     "traceback": [
      "\u001b[1;31mRunning cells with 'd:\\2 Code\\9 Sep 2023\\Krish EDA\\Krish End to end housing\\califhousepricing\\venv\\python.exe' requires the ipykernel package.\n",
      "\u001b[1;31mRun the following command to install 'ipykernel' into the Python environment. \n",
      "\u001b[1;31mCommand: 'conda install -p d:\\2 Code\\9 Sep 2023\\Krish EDA\\Krish End to end housing\\califhousepricing\\venv ipykernel --update-deps --force-reinstall'"
     ]
    }
   ],
   "source": [
    "calif.data[0].reshape(1,-1).shape"
   ]
  },
  {
   "cell_type": "code",
   "execution_count": null,
   "metadata": {},
   "outputs": [
    {
     "ename": "",
     "evalue": "",
     "output_type": "error",
     "traceback": [
      "\u001b[1;31mRunning cells with 'd:\\2 Code\\9 Sep 2023\\Krish EDA\\Krish End to end housing\\califhousepricing\\venv\\python.exe' requires the ipykernel package.\n",
      "\u001b[1;31mRun the following command to install 'ipykernel' into the Python environment. \n",
      "\u001b[1;31mCommand: 'conda install -p d:\\2 Code\\9 Sep 2023\\Krish EDA\\Krish End to end housing\\califhousepricing\\venv ipykernel --update-deps --force-reinstall'"
     ]
    }
   ],
   "source": [
    "regression.predict(calif.data[0].reshape(1,-1))"
   ]
  },
  {
   "cell_type": "code",
   "execution_count": null,
   "metadata": {},
   "outputs": [
    {
     "ename": "",
     "evalue": "",
     "output_type": "error",
     "traceback": [
      "\u001b[1;31mRunning cells with 'd:\\2 Code\\9 Sep 2023\\Krish EDA\\Krish End to end housing\\califhousepricing\\venv\\python.exe' requires the ipykernel package.\n",
      "\u001b[1;31mRun the following command to install 'ipykernel' into the Python environment. \n",
      "\u001b[1;31mCommand: 'conda install -p d:\\2 Code\\9 Sep 2023\\Krish EDA\\Krish End to end housing\\califhousepricing\\venv ipykernel --update-deps --force-reinstall'"
     ]
    }
   ],
   "source": [
    "# standardization\n",
    "scaler.transform(calif.data[0].reshape(1,-1))"
   ]
  },
  {
   "cell_type": "code",
   "execution_count": null,
   "metadata": {},
   "outputs": [
    {
     "ename": "",
     "evalue": "",
     "output_type": "error",
     "traceback": [
      "\u001b[1;31mRunning cells with 'd:\\2 Code\\9 Sep 2023\\Krish EDA\\Krish End to end housing\\califhousepricing\\venv\\python.exe' requires the ipykernel package.\n",
      "\u001b[1;31mRun the following command to install 'ipykernel' into the Python environment. \n",
      "\u001b[1;31mCommand: 'conda install -p d:\\2 Code\\9 Sep 2023\\Krish EDA\\Krish End to end housing\\califhousepricing\\venv ipykernel --update-deps --force-reinstall'"
     ]
    }
   ],
   "source": [
    "regression.predict(scaler.transform(calif.data[0].reshape(1,-1)))"
   ]
  },
  {
   "cell_type": "markdown",
   "metadata": {},
   "source": [
    "### Pickling the file for Deployement"
   ]
  },
  {
   "cell_type": "code",
   "execution_count": null,
   "metadata": {},
   "outputs": [
    {
     "ename": "",
     "evalue": "",
     "output_type": "error",
     "traceback": [
      "\u001b[1;31mRunning cells with 'd:\\2 Code\\9 Sep 2023\\Krish EDA\\Krish End to end housing\\califhousepricing\\venv\\python.exe' requires the ipykernel package.\n",
      "\u001b[1;31mRun the following command to install 'ipykernel' into the Python environment. \n",
      "\u001b[1;31mCommand: 'conda install -p d:\\2 Code\\9 Sep 2023\\Krish EDA\\Krish End to end housing\\califhousepricing\\venv ipykernel --update-deps --force-reinstall'"
     ]
    }
   ],
   "source": [
    "import pickle"
   ]
  },
  {
   "cell_type": "code",
   "execution_count": null,
   "metadata": {},
   "outputs": [
    {
     "ename": "",
     "evalue": "",
     "output_type": "error",
     "traceback": [
      "\u001b[1;31mRunning cells with 'd:\\2 Code\\9 Sep 2023\\Krish EDA\\Krish End to end housing\\califhousepricing\\venv\\python.exe' requires the ipykernel package.\n",
      "\u001b[1;31mRun the following command to install 'ipykernel' into the Python environment. \n",
      "\u001b[1;31mCommand: 'conda install -p d:\\2 Code\\9 Sep 2023\\Krish EDA\\Krish End to end housing\\califhousepricing\\venv ipykernel --update-deps --force-reinstall'"
     ]
    }
   ],
   "source": [
    "# code for pickling\n",
    "pickle.dump(regression, open('regmodel.pkl','wb'))"
   ]
  },
  {
   "cell_type": "code",
   "execution_count": null,
   "metadata": {},
   "outputs": [
    {
     "ename": "",
     "evalue": "",
     "output_type": "error",
     "traceback": [
      "\u001b[1;31mRunning cells with 'd:\\2 Code\\9 Sep 2023\\Krish EDA\\Krish End to end housing\\califhousepricing\\venv\\python.exe' requires the ipykernel package.\n",
      "\u001b[1;31mRun the following command to install 'ipykernel' into the Python environment. \n",
      "\u001b[1;31mCommand: 'conda install -p d:\\2 Code\\9 Sep 2023\\Krish EDA\\Krish End to end housing\\califhousepricing\\venv ipykernel --update-deps --force-reinstall'"
     ]
    }
   ],
   "source": [
    "# code for unpickling\n",
    "pickled_model = pickle.load(open('regmodel.pkl','rb'))"
   ]
  },
  {
   "cell_type": "code",
   "execution_count": null,
   "metadata": {},
   "outputs": [
    {
     "ename": "",
     "evalue": "",
     "output_type": "error",
     "traceback": [
      "\u001b[1;31mRunning cells with 'd:\\2 Code\\9 Sep 2023\\Krish EDA\\Krish End to end housing\\califhousepricing\\venv\\python.exe' requires the ipykernel package.\n",
      "\u001b[1;31mRun the following command to install 'ipykernel' into the Python environment. \n",
      "\u001b[1;31mCommand: 'conda install -p d:\\2 Code\\9 Sep 2023\\Krish EDA\\Krish End to end housing\\califhousepricing\\venv ipykernel --update-deps --force-reinstall'"
     ]
    }
   ],
   "source": [
    "pickled_model.predict(scaler.transform(calif.data[0].reshape(1,-1)))"
   ]
  },
  {
   "cell_type": "markdown",
   "metadata": {},
   "source": [
    "### Setting up GitHub\n",
    "- done"
   ]
  }
 ],
 "metadata": {
  "kernelspec": {
   "display_name": "Python 3",
   "language": "python",
   "name": "python3"
  },
  "language_info": {
   "codemirror_mode": {
    "name": "ipython",
    "version": 3
   },
   "file_extension": ".py",
   "mimetype": "text/x-python",
   "name": "python",
   "nbconvert_exporter": "python",
   "pygments_lexer": "ipython3",
   "version": "3.7.0"
  }
 },
 "nbformat": 4,
 "nbformat_minor": 2
}
